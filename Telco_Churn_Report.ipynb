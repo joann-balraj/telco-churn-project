{
 "cells": [
  {
   "cell_type": "markdown",
   "id": "e2d32923",
   "metadata": {},
   "source": [
    "# Telco Churn Report\n",
    "## By: Joann Balraj\n",
    "#### November 29, 2021\n",
    "----------"
   ]
  },
  {
   "cell_type": "markdown",
   "id": "44cb7ae8",
   "metadata": {},
   "source": [
    "## Project Goals:\n",
    "- Find drivers for customer churn at Telco. Why are customers churning?\n",
    "- Build a Machine Learning classification model that outperforms the baseline model to accuractely predict customer churn.\n",
    "- Document my process so that it can be presented to a non-data scientist, as well as read later like a report.\n",
    "\n",
    "### Project Description:\n",
    "At Telco, there is a big problem. Too many people are churning, and my goal is to find out why and present my take on how to reduce it. We will analyze the data and go through why people seem to be churning based on patterns in the data. We will also produce models to represent churn in relation to the drivers, specifically payment method and monthly charges. In the end we will look at reccomendations on how we can lower the customer churn rate in the future.\n",
    "\n",
    "## Questions:\n",
    "- Do customers who auto pay churn at different rates than customers who manual pay?\n",
    "- Do customers who churn have a higher monthly bill on average than customers who do not churn\n",
    "\n",
    "#### What drives customer churn at Telco?\n",
    "### Key Findings:\n",
    "- 27% of all customers churn\n",
    "- Two drivers of churn discovered:\n",
    "  - Customers who pay their bill with auto pay churn at lower rates\n",
    "  - Customers who churn have higher monthly charges\n",
    "- Baseline accuracy model for predicting churn has an accuracy of 74%\n",
    "- The Random Forest Classifier model at the end of this report achieves an 80% accuracy rate on out of sample data\n",
    "\n",
    "\n",
    "### Data Dictionary:\n",
    "| Target| Description | Data Type |\n",
    "|---------|-------------|-----------|\n",
    "| churn | Indicates if a customer has churned or if they are still a Telco customer, 0 = not churned, 1 = has churned | int64 |\n",
    "\n",
    "| Categorical Features | Description | Data Type |\n",
    "|---------|-------------|-----------|\n",
    "|senior_citizen| indicates if the customer is a senior citizen | int64 |\n",
    "dependents | indicates if the customer has dependents | int64\n",
    "phone_service | indicates if the customer has phone service with Telco | int64 |\n",
    "multiple_lines | indicates if the customer with phone service has multiple lines | int64 |\n",
    "online_security | indicates if the customer has online security services| int 64 |\n",
    "online_backup | indicates if the customer has online backup services | int64 |\n",
    "device_protection | indicates if the customer has device protection services | int64 |\n",
    "tech_support | indicates if the customer has tech support services | int64 |\n",
    "streaming_tv | indicates if the customer has tv streaming services | int64 |\n",
    "streaming_movies | indicates if the customer has movie streaming services | int64 |\n",
    "paperless_billing | indicates if the customer in enrolled in paperless billing | int64 |\n",
    "internet_service_type_id | indicates which internet service (if any) the customer has | int64\n",
    "gender_Male | indicates the the customers' gender identity | uint8\n",
    "contract_type_id | indicates the type of contract the customer has with Telco | int64|\n",
    "auto_bill_pay | indicates if the customer is enrolled in auto bill pay or not | int64|\n",
    "\n",
    "| Continuous Features | Description | Data Type |\n",
    "|---------|-------------|-----------|\n",
    "| tenure | Indicates how many months the customer has been with Telco | int64 |\n",
    "| monthly_charges | Indicates the customer's monthly bill | float64 |\n",
    "| total_charges | Indicates the total amount the customer has been charged during their tenure | float64"
   ]
  },
  {
   "cell_type": "markdown",
   "id": "a175a567",
   "metadata": {},
   "source": [
    "## Wrangle Telco Data\n",
    "To acquire the titanic data, I used the telco data csv file using the acquire module from the `env.py` file."
   ]
  },
  {
   "cell_type": "markdown",
   "id": "851ee198",
   "metadata": {},
   "source": [
    "### Data Aquisition\n",
    "Import tools and modules necessary for analysis. The acquire.py, prepare.py, and explore.py modules are included in the parent repo for this project."
   ]
  },
  {
   "cell_type": "code",
   "execution_count": 1,
   "id": "bd86aa48",
   "metadata": {},
   "outputs": [],
   "source": [
    "#ignore warnings\n",
    "import warnings\n",
    "warnings.filterwarnings(\"ignore\")\n",
    "\n",
    "#standard imports\n",
    "import numpy as np\n",
    "import pandas as pd\n",
    "import os\n",
    "\n",
    "#stats tools\n",
    "from math import sqrt\n",
    "from scipy import stats\n",
    "from scipy.stats import ttest_ind_from_stats\n",
    "\n",
    "#visualization tools\n",
    "import matplotlib.pyplot as plt\n",
    "%matplotlib inline\n",
    "import seaborn as sns\n",
    "\n",
    "#sklearn imports\n",
    "from sklearn.model_selection import train_test_split\n",
    "from sklearn.tree import DecisionTreeClassifier\n",
    "from sklearn.tree import export_graphviz\n",
    "from sklearn.metrics import classification_report\n",
    "from sklearn.metrics import confusion_matrix\n",
    "from sklearn.metrics import precision_score\n",
    "from sklearn.metrics import accuracy_score\n",
    "from sklearn.metrics import recall_score\n",
    "from sklearn.metrics import f1_score\n",
    "from sklearn.metrics import precision_recall_fscore_support\n",
    "from sklearn.neighbors import KNeighborsClassifier\n",
    "from sklearn.linear_model import LogisticRegression\n",
    "from sklearn.ensemble import RandomForestClassifier\n",
    "\n",
    "#env & modules\n",
    "from env import host, user, password\n",
    "import acquire\n",
    "import prepare\n",
    "import explore"
   ]
  },
  {
   "cell_type": "markdown",
   "id": "40074fe9",
   "metadata": {},
   "source": [
    "### Acquire the data"
   ]
  },
  {
   "cell_type": "code",
   "execution_count": 2,
   "id": "31b66387",
   "metadata": {},
   "outputs": [],
   "source": [
    "#Utilize the acquire module\n",
    "telco = acquire.get_telco_data()"
   ]
  },
  {
   "cell_type": "markdown",
   "id": "aa4e0849",
   "metadata": {},
   "source": [
    "#### Initial data exploration"
   ]
  },
  {
   "cell_type": "code",
   "execution_count": 3,
   "id": "f7d43826",
   "metadata": {},
   "outputs": [
    {
     "name": "stdout",
     "output_type": "stream",
     "text": [
      "The telco dataframe has 24 columns and 7043 rows\n"
     ]
    }
   ],
   "source": [
    "telco.shape\n",
    "print(f'The telco dataframe has {telco.shape[1]} columns and {telco.shape[0]} rows')"
   ]
  },
  {
   "cell_type": "code",
   "execution_count": 4,
   "id": "269e64fc",
   "metadata": {},
   "outputs": [
    {
     "name": "stdout",
     "output_type": "stream",
     "text": [
      "<class 'pandas.core.frame.DataFrame'>\n",
      "RangeIndex: 7043 entries, 0 to 7042\n",
      "Data columns (total 24 columns):\n",
      " #   Column                    Non-Null Count  Dtype  \n",
      "---  ------                    --------------  -----  \n",
      " 0   payment_type_id           7043 non-null   int64  \n",
      " 1   contract_type_id          7043 non-null   int64  \n",
      " 2   internet_service_type_id  7043 non-null   int64  \n",
      " 3   customer_id               7043 non-null   object \n",
      " 4   gender                    7043 non-null   object \n",
      " 5   senior_citizen            7043 non-null   int64  \n",
      " 6   partner                   7043 non-null   object \n",
      " 7   dependents                7043 non-null   object \n",
      " 8   tenure                    7043 non-null   int64  \n",
      " 9   phone_service             7043 non-null   object \n",
      " 10  multiple_lines            7043 non-null   object \n",
      " 11  online_security           7043 non-null   object \n",
      " 12  online_backup             7043 non-null   object \n",
      " 13  device_protection         7043 non-null   object \n",
      " 14  tech_support              7043 non-null   object \n",
      " 15  streaming_tv              7043 non-null   object \n",
      " 16  streaming_movies          7043 non-null   object \n",
      " 17  paperless_billing         7043 non-null   object \n",
      " 18  monthly_charges           7043 non-null   float64\n",
      " 19  total_charges             7043 non-null   object \n",
      " 20  churn                     7043 non-null   object \n",
      " 21  internet_service_type     7043 non-null   object \n",
      " 22  contract_type             7043 non-null   object \n",
      " 23  payment_type              7043 non-null   object \n",
      "dtypes: float64(1), int64(5), object(18)\n",
      "memory usage: 1.3+ MB\n"
     ]
    }
   ],
   "source": [
    "telco.info()"
   ]
  },
  {
   "cell_type": "code",
   "execution_count": 5,
   "id": "bea6c4c8",
   "metadata": {},
   "outputs": [
    {
     "data": {
      "text/html": [
       "<div>\n",
       "<style scoped>\n",
       "    .dataframe tbody tr th:only-of-type {\n",
       "        vertical-align: middle;\n",
       "    }\n",
       "\n",
       "    .dataframe tbody tr th {\n",
       "        vertical-align: top;\n",
       "    }\n",
       "\n",
       "    .dataframe thead th {\n",
       "        text-align: right;\n",
       "    }\n",
       "</style>\n",
       "<table border=\"1\" class=\"dataframe\">\n",
       "  <thead>\n",
       "    <tr style=\"text-align: right;\">\n",
       "      <th></th>\n",
       "      <th>count</th>\n",
       "      <th>mean</th>\n",
       "      <th>std</th>\n",
       "      <th>min</th>\n",
       "      <th>25%</th>\n",
       "      <th>50%</th>\n",
       "      <th>75%</th>\n",
       "      <th>max</th>\n",
       "    </tr>\n",
       "  </thead>\n",
       "  <tbody>\n",
       "    <tr>\n",
       "      <th>payment_type_id</th>\n",
       "      <td>7043.0</td>\n",
       "      <td>2.315633</td>\n",
       "      <td>1.148907</td>\n",
       "      <td>1.00</td>\n",
       "      <td>1.0</td>\n",
       "      <td>2.00</td>\n",
       "      <td>3.00</td>\n",
       "      <td>4.00</td>\n",
       "    </tr>\n",
       "    <tr>\n",
       "      <th>contract_type_id</th>\n",
       "      <td>7043.0</td>\n",
       "      <td>1.690473</td>\n",
       "      <td>0.833755</td>\n",
       "      <td>1.00</td>\n",
       "      <td>1.0</td>\n",
       "      <td>1.00</td>\n",
       "      <td>2.00</td>\n",
       "      <td>3.00</td>\n",
       "    </tr>\n",
       "    <tr>\n",
       "      <th>internet_service_type_id</th>\n",
       "      <td>7043.0</td>\n",
       "      <td>1.872923</td>\n",
       "      <td>0.737796</td>\n",
       "      <td>1.00</td>\n",
       "      <td>1.0</td>\n",
       "      <td>2.00</td>\n",
       "      <td>2.00</td>\n",
       "      <td>3.00</td>\n",
       "    </tr>\n",
       "    <tr>\n",
       "      <th>senior_citizen</th>\n",
       "      <td>7043.0</td>\n",
       "      <td>0.162147</td>\n",
       "      <td>0.368612</td>\n",
       "      <td>0.00</td>\n",
       "      <td>0.0</td>\n",
       "      <td>0.00</td>\n",
       "      <td>0.00</td>\n",
       "      <td>1.00</td>\n",
       "    </tr>\n",
       "    <tr>\n",
       "      <th>tenure</th>\n",
       "      <td>7043.0</td>\n",
       "      <td>32.371149</td>\n",
       "      <td>24.559481</td>\n",
       "      <td>0.00</td>\n",
       "      <td>9.0</td>\n",
       "      <td>29.00</td>\n",
       "      <td>55.00</td>\n",
       "      <td>72.00</td>\n",
       "    </tr>\n",
       "    <tr>\n",
       "      <th>monthly_charges</th>\n",
       "      <td>7043.0</td>\n",
       "      <td>64.761692</td>\n",
       "      <td>30.090047</td>\n",
       "      <td>18.25</td>\n",
       "      <td>35.5</td>\n",
       "      <td>70.35</td>\n",
       "      <td>89.85</td>\n",
       "      <td>118.75</td>\n",
       "    </tr>\n",
       "  </tbody>\n",
       "</table>\n",
       "</div>"
      ],
      "text/plain": [
       "                           count       mean        std    min   25%    50%  \\\n",
       "payment_type_id           7043.0   2.315633   1.148907   1.00   1.0   2.00   \n",
       "contract_type_id          7043.0   1.690473   0.833755   1.00   1.0   1.00   \n",
       "internet_service_type_id  7043.0   1.872923   0.737796   1.00   1.0   2.00   \n",
       "senior_citizen            7043.0   0.162147   0.368612   0.00   0.0   0.00   \n",
       "tenure                    7043.0  32.371149  24.559481   0.00   9.0  29.00   \n",
       "monthly_charges           7043.0  64.761692  30.090047  18.25  35.5  70.35   \n",
       "\n",
       "                            75%     max  \n",
       "payment_type_id            3.00    4.00  \n",
       "contract_type_id           2.00    3.00  \n",
       "internet_service_type_id   2.00    3.00  \n",
       "senior_citizen             0.00    1.00  \n",
       "tenure                    55.00   72.00  \n",
       "monthly_charges           89.85  118.75  "
      ]
     },
     "execution_count": 5,
     "metadata": {},
     "output_type": "execute_result"
    }
   ],
   "source": [
    "#Review summary stats for numeric columns\n",
    "telco.describe().T"
   ]
  },
  {
   "cell_type": "code",
   "execution_count": 8,
   "id": "418ce513",
   "metadata": {},
   "outputs": [
    {
     "name": "stdout",
     "output_type": "stream",
     "text": [
      "payment_type_id has 4 unique values.\n",
      "contract_type_id has 3 unique values.\n",
      "internet_service_type_id has 3 unique values.\n",
      "customer_id has 7043 unique values.\n",
      "gender has 2 unique values.\n",
      "senior_citizen has 2 unique values.\n",
      "partner has 2 unique values.\n",
      "dependents has 2 unique values.\n",
      "tenure has 73 unique values.\n",
      "phone_service has 2 unique values.\n",
      "multiple_lines has 3 unique values.\n",
      "online_security has 3 unique values.\n",
      "online_backup has 3 unique values.\n",
      "device_protection has 3 unique values.\n",
      "tech_support has 3 unique values.\n",
      "streaming_tv has 3 unique values.\n",
      "streaming_movies has 3 unique values.\n",
      "paperless_billing has 2 unique values.\n",
      "monthly_charges has 1585 unique values.\n",
      "total_charges has 6531 unique values.\n",
      "churn has 2 unique values.\n",
      "internet_service_type has 3 unique values.\n",
      "contract_type has 3 unique values.\n",
      "payment_type has 4 unique values.\n"
     ]
    }
   ],
   "source": [
    "#How many unique values are in each column? \n",
    "for col in telco:\n",
    "    print(f'{col} has {telco[col].nunique()} unique values.')"
   ]
  },
  {
   "cell_type": "code",
   "execution_count": 11,
   "id": "e8c8423d",
   "metadata": {},
   "outputs": [
    {
     "data": {
      "image/png": "[encoded data removed]",
      "text/plain": [
       "<Figure size 432x288 with 1 Axes>"
      ]
     },
     "metadata": {
      "needs_background": "light"
     },
     "output_type": "display_data"
    }
   ],
   "source": [
    "#Visualize factor - monthly charges\n",
    "sns.histplot(data=telco.monthly_charges, color='white', edgecolor='grey')\n",
    "plt.title('Distribution of Monthly Charges')\n",
    "plt.show()"
   ]
  },
  {
   "cell_type": "code",
   "execution_count": 16,
   "id": "8220aaf5",
   "metadata": {},
   "outputs": [
    {
     "data": {
      "image/png": "[encoded data removed]",
      "text/plain": [
       "<Figure size 432x288 with 1 Axes>"
      ]
     },
     "metadata": {
      "needs_background": "light"
     },
     "output_type": "display_data"
    }
   ],
   "source": [
    "#Visualize another factor - payment types\n",
    "sns.histplot(data=telco.payment_type, color='white', edgecolor='grey')\n",
    "plt.title('Distribution of Payment Types')\n",
    "plt.xticks(rotation=20)\n",
    "plt.show()"
   ]
  },
  {
   "cell_type": "code",
   "execution_count": 30,
   "id": "5a161288",
   "metadata": {},
   "outputs": [
    {
     "data": {
      "image/png": "[encoded data removed]",
      "text/plain": [
       "<Figure size 432x288 with 1 Axes>"
      ]
     },
     "metadata": {
      "needs_background": "light"
     },
     "output_type": "display_data"
    }
   ],
   "source": [
    "#Plot Internet Service Type as an example of a factor \n",
    "telco.internet_service_type.value_counts().sort_index().plot.bar(color=(0.0, 0.0, 0.0, 0.0), edgecolor='grey')\n",
    "plt.title(\"Distribution of Internet Service Types\")\n",
    "plt.xlabel('Type of Internet')\n",
    "plt.xticks(rotation=0)\n",
    "plt.show()"
   ]
  },
  {
   "cell_type": "markdown",
   "id": "d0bf5c0e",
   "metadata": {},
   "source": [
    "### Acquire Takeaways\n",
    "- Appears there are no null values\n",
    "  - Incorrect. There were empty strings in the `total_charges` column that had to be dealt with\n",
    "- Column that needs to be cleaned and prepared:\n",
    "  - `total_charges`  - Need to convert from object to float\n",
    "- Prep Question:\n",
    "  - Some columns have more unique values than expected. Why?\n",
    "    - online_security\n",
    "    - online_backup\n",
    "    - device_protection\n",
    "    - tech_support\n",
    "    - streaming_tv\n",
    "    - streaming_movies"
   ]
  },
  {
   "cell_type": "code",
   "execution_count": null,
   "id": "10aa185e",
   "metadata": {},
   "outputs": [],
   "source": []
  }
 ],
 "metadata": {
  "kernelspec": {
   "display_name": "Python 3.8.8 64-bit ('base': conda)",
   "language": "python",
   "name": "python388jvsc74a57bd0b64057e63add2b45b1ffc7eab9b09c8889b419c878e2fdf0d08f837f0fc857a7"
  },
  "language_info": {
   "codemirror_mode": {
    "name": "ipython",
    "version": 3
   },
   "file_extension": ".py",
   "mimetype": "text/x-python",
   "name": "python",
   "nbconvert_exporter": "python",
   "pygments_lexer": "ipython3",
   "version": "3.8.8"
  }
 },
 "nbformat": 4,
 "nbformat_minor": 5
}
